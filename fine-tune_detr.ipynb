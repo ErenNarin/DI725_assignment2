{
 "cells": [
  {
   "metadata": {},
   "cell_type": "code",
   "source": "#!pip install -U -q datasets transformers[torch] timm wandb torchmetrics matplotlib albumentations numpy scikit-learn",
   "id": "5bf2980d78437a09",
   "outputs": [],
   "execution_count": null
  },
  {
   "metadata": {},
   "cell_type": "code",
   "source": [
    "import json\n",
    "import wandb\n",
    "from transformers import DetrForObjectDetection, DetrImageProcessor, TrainingArguments, Trainer\n",
    "from sklearn.model_selection import train_test_split\n",
    "from data.dataset import AUAIR, collate_fn\n",
    "from model.evaluate import evaluate_model\n",
    "from utils.visualize import visualize_labels\n",
    "from utils.preprocess import filter_invalid_bboxes"
   ],
   "id": "5d85f7571ea35920",
   "outputs": [],
   "execution_count": null
  },
  {
   "metadata": {},
   "cell_type": "code",
   "source": [
    "\"\"\"\n",
    "wandb.init(\n",
    "    project=\"DI725_assignment_2_2389088_detr-auair\"\n",
    ")\n",
    "config = wandb.config\n",
    "\"\"\""
   ],
   "id": "5196892fb0d3d718",
   "outputs": [],
   "execution_count": null
  },
  {
   "metadata": {},
   "cell_type": "code",
   "source": [
    "annotations_path = \"data/auair2019/annotations.json\"\n",
    "images_path = \"data/auair2019/images\"\n",
    "\n",
    "with open(annotations_path, \"r\") as f:\n",
    "    annotations = json.load(f)\n",
    "\n",
    "train_val, test = train_test_split(annotations['annotations'], test_size=0.2, random_state=42)\n",
    "train, val = train_test_split(train_val, test_size=0.2, random_state=42)"
   ],
   "id": "e3e5d86ea47f1c08",
   "outputs": [],
   "execution_count": null
  },
  {
   "metadata": {},
   "cell_type": "code",
   "source": [
    "train_dataset = AUAIR(annotations=train, images_dir=images_path)\n",
    "val_dataset = AUAIR(annotations=val, images_dir=images_path)\n",
    "test_dataset = AUAIR(annotations=test, images_dir=images_path)"
   ],
   "id": "a24b405c77b3c727",
   "outputs": [],
   "execution_count": null
  },
  {
   "metadata": {},
   "cell_type": "code",
   "source": [
    "id2label = {\n",
    "    0: \"Human\",\n",
    "    1: \"Car\",\n",
    "    2: \"Truck\",\n",
    "    3: \"Van\",\n",
    "    4: \"Motorbike\",\n",
    "    5: \"Bicycle\",\n",
    "    6: \"Bus\",\n",
    "    7: \"Trailer\"\n",
    "}\n",
    "num_classes = 8\n",
    "label2id = {v: k for k, v in id2label.items()}"
   ],
   "id": "fd3d8459838ae0c4",
   "outputs": [],
   "execution_count": null
  },
  {
   "metadata": {},
   "cell_type": "code",
   "source": [
    "idx = 100  # To visualize different samples, change idx\n",
    "visualize_labels(train_dataset[idx][0], train_dataset[idx][1], id2label)"
   ],
   "id": "5aae1a4f03668eb",
   "outputs": [],
   "execution_count": null
  },
  {
   "metadata": {},
   "cell_type": "code",
   "source": "",
   "id": "e5b319e0420c7f9",
   "outputs": [],
   "execution_count": null
  },
  {
   "metadata": {},
   "cell_type": "code",
   "source": "",
   "id": "4b434f2046117e1f",
   "outputs": [],
   "execution_count": null
  },
  {
   "metadata": {},
   "cell_type": "code",
   "source": "",
   "id": "b7f3d294145fccf0",
   "outputs": [],
   "execution_count": null
  },
  {
   "metadata": {},
   "cell_type": "code",
   "source": "",
   "id": "d2057d935e6d37b3",
   "outputs": [],
   "execution_count": null
  },
  {
   "metadata": {},
   "cell_type": "code",
   "source": "",
   "id": "7b596b20bab9c22b",
   "outputs": [],
   "execution_count": null
  },
  {
   "metadata": {},
   "cell_type": "code",
   "source": "",
   "id": "1c60780d56257f3b",
   "outputs": [],
   "execution_count": null
  },
  {
   "metadata": {},
   "cell_type": "code",
   "source": [
    "model = DetrForObjectDetection.from_pretrained(\n",
    "    \"facebook/detr-resnet-50\",\n",
    "    num_labels=num_classes,\n",
    "    ignore_mismatched_sizes=True  # optional if you're changing num_labels\n",
    ")\n",
    "\n",
    "processor = DetrImageProcessor.from_pretrained(\"facebook/detr-resnet-50\")"
   ],
   "id": "d01ea27a3085d468",
   "outputs": [],
   "execution_count": null
  },
  {
   "metadata": {},
   "cell_type": "code",
   "source": [
    "training_args = TrainingArguments(\n",
    "    output_dir=\"model/training/detr-finetuned\",\n",
    "    per_device_train_batch_size=4,\n",
    "    num_train_epochs=10,\n",
    "    learning_rate=5e-5,\n",
    "    weight_decay=1e-4,\n",
    "    logging_dir=\"./logs\",\n",
    "    logging_steps=1000,\n",
    "    save_steps=1000,\n",
    "    save_total_limit=2,\n",
    "    remove_unused_columns=False,\n",
    ")\n",
    "\n",
    "trainer = Trainer(\n",
    "    model=model,\n",
    "    args=training_args,\n",
    "    train_dataset=train_dataset,\n",
    "    eval_dataset=val_dataset,\n",
    "    tokenizer=processor,\n",
    "    data_collator=collate_fn,\n",
    ")"
   ],
   "id": "24b87beb9036e308",
   "outputs": [],
   "execution_count": null
  },
  {
   "metadata": {},
   "cell_type": "code",
   "source": "trainer.train()",
   "id": "20818f994cc0ac6c",
   "outputs": [],
   "execution_count": null
  },
  {
   "metadata": {},
   "cell_type": "code",
   "source": [
    "model_path = \"model/best_model/detr-finetuned\"\n",
    "processor_path = \"model/processor/detr-finetuned\"\n",
    "\n",
    "trainer.save_model(model_path)\n",
    "processor.save_pretrained(processor_path)"
   ],
   "id": "f5ed0df4b6ed1b51",
   "outputs": [],
   "execution_count": null
  },
  {
   "metadata": {},
   "cell_type": "code",
   "source": [
    "model_loaded = DetrForObjectDetection.from_pretrained(model_path)\n",
    "processor_loaded = DetrImageProcessor.from_pretrained(processor_path)"
   ],
   "id": "4fae918fc02770c8",
   "outputs": [],
   "execution_count": null
  },
  {
   "metadata": {},
   "cell_type": "code",
   "source": [
    "results = evaluate_model(model_loaded, test_dataset, processor_loaded, id2label, batch_size=1, max_samples=50, show_samples=5)\n",
    "print(\"Evaluation Results:\", results)"
   ],
   "id": "caac94a125874de0",
   "outputs": [],
   "execution_count": null
  }
 ],
 "metadata": {
  "kernelspec": {
   "display_name": "Python 3",
   "language": "python",
   "name": "python3"
  },
  "language_info": {
   "codemirror_mode": {
    "name": "ipython",
    "version": 2
   },
   "file_extension": ".py",
   "mimetype": "text/x-python",
   "name": "python",
   "nbconvert_exporter": "python",
   "pygments_lexer": "ipython2",
   "version": "2.7.6"
  }
 },
 "nbformat": 4,
 "nbformat_minor": 5
}
