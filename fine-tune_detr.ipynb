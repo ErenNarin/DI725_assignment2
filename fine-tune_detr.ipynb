{
 "cells": [
  {
   "metadata": {},
   "cell_type": "code",
   "outputs": [],
   "execution_count": null,
   "source": [
    "import json\n",
    "import wandb\n",
    "from transformers import DetrForObjectDetection, DetrImageProcessor, TrainingArguments, Trainer\n",
    "from sklearn.model_selection import train_test_split\n",
    "from data.dataset import AUAIR, collate_fn\n",
    "from model.evaluate import evaluate_model"
   ],
   "id": "5bf2980d78437a09"
  },
  {
   "metadata": {},
   "cell_type": "code",
   "outputs": [],
   "execution_count": null,
   "source": [
    "wandb.init(\n",
    "    project=\"DI725_assignment_2_2389088_detr-auair\"\n",
    ")\n",
    "config = wandb.config"
   ],
   "id": "5196892fb0d3d718"
  },
  {
   "metadata": {},
   "cell_type": "code",
   "outputs": [],
   "execution_count": null,
   "source": [
    "annotations_path = \"data/auair2019/annotations.json\"\n",
    "images_path = \"data/auair2019/images\"\n",
    "\n",
    "with open(annotations_path, \"r\") as f:\n",
    "    annotations = json.load(f)\n",
    "\n",
    "train_val, test = train_test_split(annotations['annotations'], test_size=0.2, random_state=42)\n",
    "train, val = train_test_split(train_val, test_size=0.2, random_state=42)"
   ],
   "id": "e3e5d86ea47f1c08"
  },
  {
   "metadata": {},
   "cell_type": "code",
   "outputs": [],
   "execution_count": null,
   "source": [
    "train_dataset = AUAIR(annotations=train, images_dir=images_path)\n",
    "val_dataset = AUAIR(annotations=val, images_dir=images_path)\n",
    "test_dataset = AUAIR(annotations=test, images_dir=images_path)"
   ],
   "id": "a24b405c77b3c727"
  },
  {
   "metadata": {},
   "cell_type": "code",
   "outputs": [],
   "execution_count": null,
   "source": [
    "id2label = {\n",
    "    0: \"Human\",\n",
    "    1: \"Car\",\n",
    "    2: \"Truck\",\n",
    "    3: \"Van\",\n",
    "    4: \"Motorbike\",\n",
    "    5: \"Bicycle\",\n",
    "    6: \"Bus\",\n",
    "    7: \"Trailer\"\n",
    "}\n",
    "num_classes = 8\n",
    "label2id = {v: k for k, v in id2label.items()}"
   ],
   "id": "fd3d8459838ae0c4"
  },
  {
   "metadata": {},
   "cell_type": "code",
   "outputs": [],
   "execution_count": null,
   "source": [
    "model = DetrForObjectDetection.from_pretrained(\n",
    "    \"facebook/detr-resnet-50\",\n",
    "    num_labels=num_classes,\n",
    "    ignore_mismatched_sizes=True  # optional if you're changing num_labels\n",
    ")\n",
    "\n",
    "processor = DetrImageProcessor.from_pretrained(\"facebook/detr-resnet-50\")"
   ],
   "id": "d01ea27a3085d468"
  },
  {
   "metadata": {},
   "cell_type": "code",
   "outputs": [],
   "execution_count": null,
   "source": [
    "training_args = TrainingArguments(\n",
    "    output_dir=\"model/training/detr-finetuned\",\n",
    "    per_device_train_batch_size=4,\n",
    "    num_train_epochs=10,\n",
    "    learning_rate=5e-5,\n",
    "    weight_decay=1e-4,\n",
    "    logging_dir=\"./logs\",\n",
    "    logging_steps=1000,\n",
    "    save_steps=1000,\n",
    "    save_total_limit=2,\n",
    "    remove_unused_columns=False,\n",
    ")\n",
    "\n",
    "trainer = Trainer(\n",
    "    model=model,\n",
    "    args=training_args,\n",
    "    train_dataset=train_dataset,\n",
    "    eval_dataset=val_dataset,\n",
    "    tokenizer=processor,\n",
    "    data_collator=collate_fn,\n",
    ")"
   ],
   "id": "24b87beb9036e308"
  },
  {
   "metadata": {},
   "cell_type": "code",
   "outputs": [],
   "execution_count": null,
   "source": "trainer.train()",
   "id": "20818f994cc0ac6c"
  },
  {
   "metadata": {},
   "cell_type": "code",
   "outputs": [],
   "execution_count": null,
   "source": [
    "model_path = \"model/best_model/detr-finetuned\"\n",
    "processor_path = \"model/processor/detr-finetuned\"\n",
    "\n",
    "trainer.save_model(model_path)\n",
    "processor.save_pretrained(processor_path)"
   ],
   "id": "f5ed0df4b6ed1b51"
  },
  {
   "metadata": {},
   "cell_type": "code",
   "outputs": [],
   "execution_count": null,
   "source": [
    "model_loaded = DetrForObjectDetection.from_pretrained(model_path)\n",
    "processor_loaded = DetrImageProcessor.from_pretrained(processor_path)"
   ],
   "id": "4fae918fc02770c8"
  },
  {
   "metadata": {},
   "cell_type": "code",
   "outputs": [],
   "execution_count": null,
   "source": [
    "results = evaluate_model(model_loaded, test_dataset, processor_loaded, id2label, batch_size=1, max_samples=50, show_samples=5)\n",
    "print(\"Evaluation Results:\", results)"
   ],
   "id": "caac94a125874de0"
  }
 ],
 "metadata": {
  "kernelspec": {
   "display_name": "Python 3",
   "language": "python",
   "name": "python3"
  },
  "language_info": {
   "codemirror_mode": {
    "name": "ipython",
    "version": 2
   },
   "file_extension": ".py",
   "mimetype": "text/x-python",
   "name": "python",
   "nbconvert_exporter": "python",
   "pygments_lexer": "ipython2",
   "version": "2.7.6"
  }
 },
 "nbformat": 4,
 "nbformat_minor": 5
}
